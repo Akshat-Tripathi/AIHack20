{
  "nbformat": 4,
  "nbformat_minor": 0,
  "metadata": {
    "colab": {
      "name": "HotDog.ipynb",
      "provenance": [],
      "collapsed_sections": [],
      "toc_visible": true,
      "authorship_tag": "ABX9TyOkqJTqhfECM3aQ7RkxeZLd",
      "include_colab_link": true
    },
    "kernelspec": {
      "name": "python3",
      "display_name": "Python 3"
    }
  },
  "cells": [
    {
      "cell_type": "markdown",
      "metadata": {
        "id": "view-in-github",
        "colab_type": "text"
      },
      "source": [
        "<a href=\"https://colab.research.google.com/github/Akshat-Tripathi/AIHack20/blob/master/HotDog.ipynb\" target=\"_parent\"><img src=\"https://colab.research.google.com/assets/colab-badge.svg\" alt=\"Open In Colab\"/></a>"
      ]
    },
    {
      "cell_type": "code",
      "metadata": {
        "id": "2FRbD6m94zW3",
        "colab_type": "code",
        "outputId": "7195d48b-2ffd-4907-c38e-e75f7f367f40",
        "colab": {
          "base_uri": "https://localhost:8080/",
          "height": 546
        }
      },
      "source": [
        "!pip install --upgrade google-cloud-vision"
      ],
      "execution_count": 1,
      "outputs": [
        {
          "output_type": "stream",
          "text": [
            "Collecting google-cloud-vision\n",
            "\u001b[?25l  Downloading https://files.pythonhosted.org/packages/0d/7f/e10d602c2dc3f749f1b78377a3357790f1da71b28e7da9e5bc20b3a9bd40/google_cloud_vision-1.0.0-py2.py3-none-any.whl (435kB)\n",
            "\r\u001b[K     |▊                               | 10kB 13.6MB/s eta 0:00:01\r\u001b[K     |█▌                              | 20kB 1.8MB/s eta 0:00:01\r\u001b[K     |██▎                             | 30kB 2.4MB/s eta 0:00:01\r\u001b[K     |███                             | 40kB 1.7MB/s eta 0:00:01\r\u001b[K     |███▊                            | 51kB 1.9MB/s eta 0:00:01\r\u001b[K     |████▌                           | 61kB 2.3MB/s eta 0:00:01\r\u001b[K     |█████▎                          | 71kB 2.5MB/s eta 0:00:01\r\u001b[K     |██████                          | 81kB 2.7MB/s eta 0:00:01\r\u001b[K     |██████▉                         | 92kB 3.0MB/s eta 0:00:01\r\u001b[K     |███████▌                        | 102kB 2.8MB/s eta 0:00:01\r\u001b[K     |████████▎                       | 112kB 2.8MB/s eta 0:00:01\r\u001b[K     |█████████                       | 122kB 2.8MB/s eta 0:00:01\r\u001b[K     |█████████▉                      | 133kB 2.8MB/s eta 0:00:01\r\u001b[K     |██████████▌                     | 143kB 2.8MB/s eta 0:00:01\r\u001b[K     |███████████▎                    | 153kB 2.8MB/s eta 0:00:01\r\u001b[K     |████████████                    | 163kB 2.8MB/s eta 0:00:01\r\u001b[K     |████████████▉                   | 174kB 2.8MB/s eta 0:00:01\r\u001b[K     |█████████████▋                  | 184kB 2.8MB/s eta 0:00:01\r\u001b[K     |██████████████▎                 | 194kB 2.8MB/s eta 0:00:01\r\u001b[K     |███████████████                 | 204kB 2.8MB/s eta 0:00:01\r\u001b[K     |███████████████▉                | 215kB 2.8MB/s eta 0:00:01\r\u001b[K     |████████████████▋               | 225kB 2.8MB/s eta 0:00:01\r\u001b[K     |█████████████████▎              | 235kB 2.8MB/s eta 0:00:01\r\u001b[K     |██████████████████              | 245kB 2.8MB/s eta 0:00:01\r\u001b[K     |██████████████████▉             | 256kB 2.8MB/s eta 0:00:01\r\u001b[K     |███████████████████▋            | 266kB 2.8MB/s eta 0:00:01\r\u001b[K     |████████████████████▍           | 276kB 2.8MB/s eta 0:00:01\r\u001b[K     |█████████████████████           | 286kB 2.8MB/s eta 0:00:01\r\u001b[K     |█████████████████████▉          | 296kB 2.8MB/s eta 0:00:01\r\u001b[K     |██████████████████████▋         | 307kB 2.8MB/s eta 0:00:01\r\u001b[K     |███████████████████████▍        | 317kB 2.8MB/s eta 0:00:01\r\u001b[K     |████████████████████████        | 327kB 2.8MB/s eta 0:00:01\r\u001b[K     |████████████████████████▉       | 337kB 2.8MB/s eta 0:00:01\r\u001b[K     |█████████████████████████▋      | 348kB 2.8MB/s eta 0:00:01\r\u001b[K     |██████████████████████████▍     | 358kB 2.8MB/s eta 0:00:01\r\u001b[K     |███████████████████████████▏    | 368kB 2.8MB/s eta 0:00:01\r\u001b[K     |███████████████████████████▉    | 378kB 2.8MB/s eta 0:00:01\r\u001b[K     |████████████████████████████▋   | 389kB 2.8MB/s eta 0:00:01\r\u001b[K     |█████████████████████████████▍  | 399kB 2.8MB/s eta 0:00:01\r\u001b[K     |██████████████████████████████▏ | 409kB 2.8MB/s eta 0:00:01\r\u001b[K     |██████████████████████████████▉ | 419kB 2.8MB/s eta 0:00:01\r\u001b[K     |███████████████████████████████▋| 430kB 2.8MB/s eta 0:00:01\r\u001b[K     |████████████████████████████████| 440kB 2.8MB/s \n",
            "\u001b[?25hRequirement already satisfied, skipping upgrade: google-api-core[grpc]<2.0.0dev,>=1.14.0 in /usr/local/lib/python3.6/dist-packages (from google-cloud-vision) (1.16.0)\n",
            "Requirement already satisfied, skipping upgrade: setuptools>=34.0.0 in /usr/local/lib/python3.6/dist-packages (from google-api-core[grpc]<2.0.0dev,>=1.14.0->google-cloud-vision) (45.1.0)\n",
            "Requirement already satisfied, skipping upgrade: protobuf>=3.4.0 in /usr/local/lib/python3.6/dist-packages (from google-api-core[grpc]<2.0.0dev,>=1.14.0->google-cloud-vision) (3.10.0)\n",
            "Requirement already satisfied, skipping upgrade: six>=1.10.0 in /usr/local/lib/python3.6/dist-packages (from google-api-core[grpc]<2.0.0dev,>=1.14.0->google-cloud-vision) (1.12.0)\n",
            "Requirement already satisfied, skipping upgrade: google-auth<2.0dev,>=0.4.0 in /usr/local/lib/python3.6/dist-packages (from google-api-core[grpc]<2.0.0dev,>=1.14.0->google-cloud-vision) (1.7.2)\n",
            "Requirement already satisfied, skipping upgrade: requests<3.0.0dev,>=2.18.0 in /usr/local/lib/python3.6/dist-packages (from google-api-core[grpc]<2.0.0dev,>=1.14.0->google-cloud-vision) (2.21.0)\n",
            "Requirement already satisfied, skipping upgrade: pytz in /usr/local/lib/python3.6/dist-packages (from google-api-core[grpc]<2.0.0dev,>=1.14.0->google-cloud-vision) (2018.9)\n",
            "Requirement already satisfied, skipping upgrade: googleapis-common-protos<2.0dev,>=1.6.0 in /usr/local/lib/python3.6/dist-packages (from google-api-core[grpc]<2.0.0dev,>=1.14.0->google-cloud-vision) (1.51.0)\n",
            "Requirement already satisfied, skipping upgrade: grpcio<2.0dev,>=1.8.2; extra == \"grpc\" in /usr/local/lib/python3.6/dist-packages (from google-api-core[grpc]<2.0.0dev,>=1.14.0->google-cloud-vision) (1.27.1)\n",
            "Requirement already satisfied, skipping upgrade: pyasn1-modules>=0.2.1 in /usr/local/lib/python3.6/dist-packages (from google-auth<2.0dev,>=0.4.0->google-api-core[grpc]<2.0.0dev,>=1.14.0->google-cloud-vision) (0.2.8)\n",
            "Requirement already satisfied, skipping upgrade: rsa<4.1,>=3.1.4 in /usr/local/lib/python3.6/dist-packages (from google-auth<2.0dev,>=0.4.0->google-api-core[grpc]<2.0.0dev,>=1.14.0->google-cloud-vision) (4.0)\n",
            "Requirement already satisfied, skipping upgrade: cachetools<3.2,>=2.0.0 in /usr/local/lib/python3.6/dist-packages (from google-auth<2.0dev,>=0.4.0->google-api-core[grpc]<2.0.0dev,>=1.14.0->google-cloud-vision) (3.1.1)\n",
            "Requirement already satisfied, skipping upgrade: chardet<3.1.0,>=3.0.2 in /usr/local/lib/python3.6/dist-packages (from requests<3.0.0dev,>=2.18.0->google-api-core[grpc]<2.0.0dev,>=1.14.0->google-cloud-vision) (3.0.4)\n",
            "Requirement already satisfied, skipping upgrade: urllib3<1.25,>=1.21.1 in /usr/local/lib/python3.6/dist-packages (from requests<3.0.0dev,>=2.18.0->google-api-core[grpc]<2.0.0dev,>=1.14.0->google-cloud-vision) (1.24.3)\n",
            "Requirement already satisfied, skipping upgrade: idna<2.9,>=2.5 in /usr/local/lib/python3.6/dist-packages (from requests<3.0.0dev,>=2.18.0->google-api-core[grpc]<2.0.0dev,>=1.14.0->google-cloud-vision) (2.8)\n",
            "Requirement already satisfied, skipping upgrade: certifi>=2017.4.17 in /usr/local/lib/python3.6/dist-packages (from requests<3.0.0dev,>=2.18.0->google-api-core[grpc]<2.0.0dev,>=1.14.0->google-cloud-vision) (2019.11.28)\n",
            "Requirement already satisfied, skipping upgrade: pyasn1<0.5.0,>=0.4.6 in /usr/local/lib/python3.6/dist-packages (from pyasn1-modules>=0.2.1->google-auth<2.0dev,>=0.4.0->google-api-core[grpc]<2.0.0dev,>=1.14.0->google-cloud-vision) (0.4.8)\n",
            "Installing collected packages: google-cloud-vision\n",
            "Successfully installed google-cloud-vision-1.0.0\n"
          ],
          "name": "stdout"
        },
        {
          "output_type": "display_data",
          "data": {
            "application/vnd.colab-display-data+json": {
              "pip_warning": {
                "packages": [
                  "google"
                ]
              }
            }
          },
          "metadata": {
            "tags": []
          }
        }
      ]
    },
    {
      "cell_type": "code",
      "metadata": {
        "id": "G6z5BgZE4Ypa",
        "colab_type": "code",
        "colab": {}
      },
      "source": [
        "import os\n",
        "os.environ['GOOGLE_APPLICATION_CREDENTIALS']=\"Hot Dog-9841960ec373.json\"\n",
        "from PIL import Image, ImageDraw"
      ],
      "execution_count": 0,
      "outputs": []
    },
    {
      "cell_type": "code",
      "metadata": {
        "id": "gNJ8jL8k7MbX",
        "colab_type": "code",
        "colab": {}
      },
      "source": [
        "def localize_objects(path):\n",
        "    \"\"\"Localize objects in the local image.\n",
        "\n",
        "    Args:\n",
        "    path: The path to the local file.\n",
        "    \"\"\"\n",
        "    from google.cloud import vision\n",
        "    client = vision.ImageAnnotatorClient()\n",
        "\n",
        "    with open(path, 'rb') as image_file:\n",
        "        content = image_file.read()\n",
        "    image = vision.types.Image(content=content)\n",
        "\n",
        "    objects = client.object_localization(\n",
        "        image=image).localized_object_annotations\n",
        "\n",
        "    isHotDog = False\n",
        "    im = Image.open(path)\n",
        "\n",
        "    width, height = im.size\n",
        "    print(objects)\n",
        "    for object_ in objects:\n",
        "        if(object_.name == \"Hot dog\"):\n",
        "          isHotDog = True\n",
        "\n",
        "          draw = ImageDraw.Draw(im)\n",
        "          box = [(vertex.x*width, vertex.y*height)\n",
        "                for vertex in object_.bounding_poly.normalized_vertices]\n",
        "                \n",
        "          draw.line(box + [box[0]], width=5, fill='#00ff00')\n",
        "          im.save(\"out.png\",\"PNG\")\n",
        "        else:\n",
        "          draw = ImageDraw.Draw(im)\n",
        "          box = [(vertex.x*width, vertex.y*height)\n",
        "                for vertex in object_.bounding_poly.normalized_vertices]\n",
        "                \n",
        "          draw.line(box + [box[0]], width=5, fill='#222222')\n",
        "          im.save(\"out.png\",\"PNG\")\n",
        "\n",
        "        \n",
        "\n",
        "    if isHotDog == True:\n",
        "      return True\n",
        "    else:\n",
        "      return False\n",
        "\n"
      ],
      "execution_count": 0,
      "outputs": []
    },
    {
      "cell_type": "code",
      "metadata": {
        "id": "ntjGXCE74q89",
        "colab_type": "code",
        "colab": {
          "base_uri": "https://localhost:8080/",
          "height": 847
        },
        "outputId": "ecdb88b7-103c-43b1-d473-6699af6273d7"
      },
      "source": [
        "localize_objects('hamburger.jpg')"
      ],
      "execution_count": 23,
      "outputs": [
        {
          "output_type": "stream",
          "text": [
            "[mid: \"/m/02wbm\"\n",
            "name: \"Food\"\n",
            "score: 0.7263595461845398\n",
            "bounding_poly {\n",
            "  normalized_vertices {\n",
            "    x: 0.1370764523744583\n",
            "    y: 0.06049956753849983\n",
            "  }\n",
            "  normalized_vertices {\n",
            "    x: 0.9223900437355042\n",
            "    y: 0.06049956753849983\n",
            "  }\n",
            "  normalized_vertices {\n",
            "    x: 0.9223900437355042\n",
            "    y: 0.9403963088989258\n",
            "  }\n",
            "  normalized_vertices {\n",
            "    x: 0.1370764523744583\n",
            "    y: 0.9403963088989258\n",
            "  }\n",
            "}\n",
            ", mid: \"/m/0cdn1\"\n",
            "name: \"Hamburger\"\n",
            "score: 0.6264289021492004\n",
            "bounding_poly {\n",
            "  normalized_vertices {\n",
            "    x: 0.15508975088596344\n",
            "    y: 0.07060231268405914\n",
            "  }\n",
            "  normalized_vertices {\n",
            "    x: 0.9163026809692383\n",
            "    y: 0.07060231268405914\n",
            "  }\n",
            "  normalized_vertices {\n",
            "    x: 0.9163026809692383\n",
            "    y: 0.9326150417327881\n",
            "  }\n",
            "  normalized_vertices {\n",
            "    x: 0.15508975088596344\n",
            "    y: 0.9326150417327881\n",
            "  }\n",
            "}\n",
            "]\n"
          ],
          "name": "stdout"
        },
        {
          "output_type": "execute_result",
          "data": {
            "text/plain": [
              "False"
            ]
          },
          "metadata": {
            "tags": []
          },
          "execution_count": 23
        }
      ]
    },
    {
      "cell_type": "code",
      "metadata": {
        "id": "fqRiyqoEaiwb",
        "colab_type": "code",
        "colab": {}
      },
      "source": [
        ""
      ],
      "execution_count": 0,
      "outputs": []
    }
  ]
}